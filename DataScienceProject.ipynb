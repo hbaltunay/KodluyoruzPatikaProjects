{
 "cells": [
  {
   "cell_type": "markdown",
   "id": "7e31a5cd",
   "metadata": {
    "papermill": {
     "duration": 0.042251,
     "end_time": "2022-03-29T11:54:10.135899",
     "exception": false,
     "start_time": "2022-03-29T11:54:10.093648",
     "status": "completed"
    },
    "tags": []
   },
   "source": [
    "# Import Libraries"
   ]
  },
  {
   "cell_type": "code",
   "execution_count": 1,
   "id": "bf5d41ec",
   "metadata": {
    "_cell_guid": "b1076dfc-b9ad-4769-8c92-a6c4dae69d19",
    "_uuid": "8f2839f25d086af736a60e9eeb907d3b93b6e0e5",
    "execution": {
     "iopub.execute_input": "2022-03-29T11:54:10.210138Z",
     "iopub.status.busy": "2022-03-29T11:54:10.208270Z",
     "iopub.status.idle": "2022-03-29T11:54:11.705136Z",
     "shell.execute_reply": "2022-03-29T11:54:11.705723Z",
     "shell.execute_reply.started": "2022-03-29T11:26:54.565239Z"
    },
    "papermill": {
     "duration": 1.536182,
     "end_time": "2022-03-29T11:54:11.706037",
     "exception": false,
     "start_time": "2022-03-29T11:54:10.169855",
     "status": "completed"
    },
    "tags": []
   },
   "outputs": [],
   "source": [
    "import pandas  as pd\n",
    "import numpy as np\n",
    "import matplotlib.pyplot as plt\n",
    "import seaborn as sns\n",
    "import itertools\n",
    "from sklearn.preprocessing import LabelEncoder\n",
    "from sklearn.preprocessing import StandardScaler, MinMaxScaler\n",
    "from sklearn.model_selection import train_test_split\n",
    "from sklearn.model_selection import GridSearchCV\n",
    "from sklearn.metrics import r2_score, mean_absolute_error\n",
    "from sklearn.ensemble import RandomForestRegressor"
   ]
  },
  {
   "cell_type": "markdown",
   "id": "ed8ea6ca",
   "metadata": {
    "papermill": {
     "duration": 0.033065,
     "end_time": "2022-03-29T11:54:11.775349",
     "exception": false,
     "start_time": "2022-03-29T11:54:11.742284",
     "status": "completed"
    },
    "tags": []
   },
   "source": [
    "# Data Loading and Editing"
   ]
  },
  {
   "cell_type": "code",
   "execution_count": 2,
   "id": "2095b11d",
   "metadata": {
    "execution": {
     "iopub.execute_input": "2022-03-29T11:54:11.849416Z",
     "iopub.status.busy": "2022-03-29T11:54:11.848725Z",
     "iopub.status.idle": "2022-03-29T11:54:11.869494Z",
     "shell.execute_reply": "2022-03-29T11:54:11.870118Z",
     "shell.execute_reply.started": "2022-03-29T10:47:24.723262Z"
    },
    "papermill": {
     "duration": 0.060267,
     "end_time": "2022-03-29T11:54:11.870302",
     "exception": false,
     "start_time": "2022-03-29T11:54:11.810035",
     "status": "completed"
    },
    "tags": []
   },
   "outputs": [],
   "source": [
    "df = pd.read_csv('../input/insurance/insurance.csv')"
   ]
  },
  {
   "cell_type": "code",
   "execution_count": 3,
   "id": "b2f48c39",
   "metadata": {
    "execution": {
     "iopub.execute_input": "2022-03-29T11:54:11.941860Z",
     "iopub.status.busy": "2022-03-29T11:54:11.941100Z",
     "iopub.status.idle": "2022-03-29T11:54:11.982417Z",
     "shell.execute_reply": "2022-03-29T11:54:11.983061Z",
     "shell.execute_reply.started": "2022-03-29T10:47:26.738900Z"
    },
    "papermill": {
     "duration": 0.078443,
     "end_time": "2022-03-29T11:54:11.983236",
     "exception": false,
     "start_time": "2022-03-29T11:54:11.904793",
     "status": "completed"
    },
    "tags": []
   },
   "outputs": [
    {
     "data": {
      "text/html": [
       "<div>\n",
       "<style scoped>\n",
       "    .dataframe tbody tr th:only-of-type {\n",
       "        vertical-align: middle;\n",
       "    }\n",
       "\n",
       "    .dataframe tbody tr th {\n",
       "        vertical-align: top;\n",
       "    }\n",
       "\n",
       "    .dataframe thead th {\n",
       "        text-align: right;\n",
       "    }\n",
       "</style>\n",
       "<table border=\"1\" class=\"dataframe\">\n",
       "  <thead>\n",
       "    <tr style=\"text-align: right;\">\n",
       "      <th></th>\n",
       "      <th>age</th>\n",
       "      <th>bmi</th>\n",
       "      <th>children</th>\n",
       "      <th>charges</th>\n",
       "    </tr>\n",
       "  </thead>\n",
       "  <tbody>\n",
       "    <tr>\n",
       "      <th>count</th>\n",
       "      <td>1338.000000</td>\n",
       "      <td>1338.000000</td>\n",
       "      <td>1338.000000</td>\n",
       "      <td>1338.000000</td>\n",
       "    </tr>\n",
       "    <tr>\n",
       "      <th>mean</th>\n",
       "      <td>39.207025</td>\n",
       "      <td>30.663397</td>\n",
       "      <td>1.094918</td>\n",
       "      <td>13270.422265</td>\n",
       "    </tr>\n",
       "    <tr>\n",
       "      <th>std</th>\n",
       "      <td>14.049960</td>\n",
       "      <td>6.098187</td>\n",
       "      <td>1.205493</td>\n",
       "      <td>12110.011237</td>\n",
       "    </tr>\n",
       "    <tr>\n",
       "      <th>min</th>\n",
       "      <td>18.000000</td>\n",
       "      <td>15.960000</td>\n",
       "      <td>0.000000</td>\n",
       "      <td>1121.873900</td>\n",
       "    </tr>\n",
       "    <tr>\n",
       "      <th>25%</th>\n",
       "      <td>27.000000</td>\n",
       "      <td>26.296250</td>\n",
       "      <td>0.000000</td>\n",
       "      <td>4740.287150</td>\n",
       "    </tr>\n",
       "    <tr>\n",
       "      <th>50%</th>\n",
       "      <td>39.000000</td>\n",
       "      <td>30.400000</td>\n",
       "      <td>1.000000</td>\n",
       "      <td>9382.033000</td>\n",
       "    </tr>\n",
       "    <tr>\n",
       "      <th>75%</th>\n",
       "      <td>51.000000</td>\n",
       "      <td>34.693750</td>\n",
       "      <td>2.000000</td>\n",
       "      <td>16639.912515</td>\n",
       "    </tr>\n",
       "    <tr>\n",
       "      <th>max</th>\n",
       "      <td>64.000000</td>\n",
       "      <td>53.130000</td>\n",
       "      <td>5.000000</td>\n",
       "      <td>63770.428010</td>\n",
       "    </tr>\n",
       "  </tbody>\n",
       "</table>\n",
       "</div>"
      ],
      "text/plain": [
       "               age          bmi     children       charges\n",
       "count  1338.000000  1338.000000  1338.000000   1338.000000\n",
       "mean     39.207025    30.663397     1.094918  13270.422265\n",
       "std      14.049960     6.098187     1.205493  12110.011237\n",
       "min      18.000000    15.960000     0.000000   1121.873900\n",
       "25%      27.000000    26.296250     0.000000   4740.287150\n",
       "50%      39.000000    30.400000     1.000000   9382.033000\n",
       "75%      51.000000    34.693750     2.000000  16639.912515\n",
       "max      64.000000    53.130000     5.000000  63770.428010"
      ]
     },
     "execution_count": 3,
     "metadata": {},
     "output_type": "execute_result"
    }
   ],
   "source": [
    "# Basic statistical details\n",
    "\n",
    "df.describe()"
   ]
  },
  {
   "cell_type": "code",
   "execution_count": 4,
   "id": "17731974",
   "metadata": {
    "execution": {
     "iopub.execute_input": "2022-03-29T11:54:12.058787Z",
     "iopub.status.busy": "2022-03-29T11:54:12.058006Z",
     "iopub.status.idle": "2022-03-29T11:54:12.065980Z",
     "shell.execute_reply": "2022-03-29T11:54:12.066472Z",
     "shell.execute_reply.started": "2022-03-29T10:47:28.592189Z"
    },
    "papermill": {
     "duration": 0.048537,
     "end_time": "2022-03-29T11:54:12.066657",
     "exception": false,
     "start_time": "2022-03-29T11:54:12.018120",
     "status": "completed"
    },
    "tags": []
   },
   "outputs": [
    {
     "data": {
      "text/plain": [
       "age         0\n",
       "sex         0\n",
       "bmi         0\n",
       "children    0\n",
       "smoker      0\n",
       "region      0\n",
       "charges     0\n",
       "dtype: int64"
      ]
     },
     "execution_count": 4,
     "metadata": {},
     "output_type": "execute_result"
    }
   ],
   "source": [
    "#Missing data check\n",
    "\n",
    "df.isnull().sum()"
   ]
  },
  {
   "cell_type": "code",
   "execution_count": 5,
   "id": "ea8795ad",
   "metadata": {
    "execution": {
     "iopub.execute_input": "2022-03-29T11:54:12.144599Z",
     "iopub.status.busy": "2022-03-29T11:54:12.143837Z",
     "iopub.status.idle": "2022-03-29T11:54:12.151320Z",
     "shell.execute_reply": "2022-03-29T11:54:12.150800Z",
     "shell.execute_reply.started": "2022-03-29T10:49:46.716434Z"
    },
    "papermill": {
     "duration": 0.046538,
     "end_time": "2022-03-29T11:54:12.151505",
     "exception": false,
     "start_time": "2022-03-29T11:54:12.104967",
     "status": "completed"
    },
    "tags": []
   },
   "outputs": [
    {
     "data": {
      "text/plain": [
       "age           int64\n",
       "sex          object\n",
       "bmi         float64\n",
       "children      int64\n",
       "smoker       object\n",
       "region       object\n",
       "charges     float64\n",
       "dtype: object"
      ]
     },
     "execution_count": 5,
     "metadata": {},
     "output_type": "execute_result"
    }
   ],
   "source": [
    "df.dtypes "
   ]
  },
  {
   "cell_type": "code",
   "execution_count": 6,
   "id": "250a08f6",
   "metadata": {
    "execution": {
     "iopub.execute_input": "2022-03-29T11:54:12.233856Z",
     "iopub.status.busy": "2022-03-29T11:54:12.233076Z",
     "iopub.status.idle": "2022-03-29T11:54:12.240883Z",
     "shell.execute_reply": "2022-03-29T11:54:12.241483Z",
     "shell.execute_reply.started": "2022-03-29T10:49:48.954400Z"
    },
    "papermill": {
     "duration": 0.053387,
     "end_time": "2022-03-29T11:54:12.241669",
     "exception": false,
     "start_time": "2022-03-29T11:54:12.188282",
     "status": "completed"
    },
    "tags": []
   },
   "outputs": [
    {
     "name": "stdout",
     "output_type": "stream",
     "text": [
      "Duplicate Rows Count :  1\n"
     ]
    }
   ],
   "source": [
    "# Removing duplicate rows.\n",
    "\n",
    "print('Duplicate Rows Count : ', df.duplicated().sum())\n",
    "\n",
    "df=df.drop_duplicates(keep=\"first\")"
   ]
  },
  {
   "cell_type": "code",
   "execution_count": 7,
   "id": "748e2564",
   "metadata": {
    "execution": {
     "iopub.execute_input": "2022-03-29T11:54:12.325379Z",
     "iopub.status.busy": "2022-03-29T11:54:12.320076Z",
     "iopub.status.idle": "2022-03-29T11:54:12.633598Z",
     "shell.execute_reply": "2022-03-29T11:54:12.632961Z",
     "shell.execute_reply.started": "2022-03-29T10:49:50.836288Z"
    },
    "papermill": {
     "duration": 0.356865,
     "end_time": "2022-03-29T11:54:12.633752",
     "exception": false,
     "start_time": "2022-03-29T11:54:12.276887",
     "status": "completed"
    },
    "tags": []
   },
   "outputs": [
    {
     "data": {
      "text/plain": [
       "<AxesSubplot:>"
      ]
     },
     "execution_count": 7,
     "metadata": {},
     "output_type": "execute_result"
    },
    {
     "data": {
      "image/png": "[encoded data removed]",
      "text/plain": [
       "<Figure size 864x432 with 2 Axes>"
      ]
     },
     "metadata": {
      "needs_background": "light"
     },
     "output_type": "display_data"
    }
   ],
   "source": [
    "# Correlation Heatmap\n",
    "\n",
    "plt.figure(figsize=(12,6))\n",
    "sns.heatmap(df.corr(),annot=True)"
   ]
  },
  {
   "cell_type": "code",
   "execution_count": 8,
   "id": "6afbfc8b",
   "metadata": {
    "execution": {
     "iopub.execute_input": "2022-03-29T11:54:12.710765Z",
     "iopub.status.busy": "2022-03-29T11:54:12.710124Z",
     "iopub.status.idle": "2022-03-29T11:54:12.722086Z",
     "shell.execute_reply": "2022-03-29T11:54:12.722573Z",
     "shell.execute_reply.started": "2022-03-29T10:50:51.291221Z"
    },
    "papermill": {
     "duration": 0.052065,
     "end_time": "2022-03-29T11:54:12.722752",
     "exception": false,
     "start_time": "2022-03-29T11:54:12.670687",
     "status": "completed"
    },
    "tags": []
   },
   "outputs": [
    {
     "data": {
      "text/html": [
       "<div>\n",
       "<style scoped>\n",
       "    .dataframe tbody tr th:only-of-type {\n",
       "        vertical-align: middle;\n",
       "    }\n",
       "\n",
       "    .dataframe tbody tr th {\n",
       "        vertical-align: top;\n",
       "    }\n",
       "\n",
       "    .dataframe thead th {\n",
       "        text-align: right;\n",
       "    }\n",
       "</style>\n",
       "<table border=\"1\" class=\"dataframe\">\n",
       "  <thead>\n",
       "    <tr style=\"text-align: right;\">\n",
       "      <th></th>\n",
       "      <th>age</th>\n",
       "      <th>sex</th>\n",
       "      <th>bmi</th>\n",
       "      <th>children</th>\n",
       "      <th>smoker</th>\n",
       "      <th>region</th>\n",
       "      <th>charges</th>\n",
       "    </tr>\n",
       "  </thead>\n",
       "  <tbody>\n",
       "    <tr>\n",
       "      <th>0</th>\n",
       "      <td>19</td>\n",
       "      <td>female</td>\n",
       "      <td>27.900</td>\n",
       "      <td>0</td>\n",
       "      <td>yes</td>\n",
       "      <td>southwest</td>\n",
       "      <td>16884.92400</td>\n",
       "    </tr>\n",
       "    <tr>\n",
       "      <th>1</th>\n",
       "      <td>18</td>\n",
       "      <td>male</td>\n",
       "      <td>33.770</td>\n",
       "      <td>1</td>\n",
       "      <td>no</td>\n",
       "      <td>southeast</td>\n",
       "      <td>1725.55230</td>\n",
       "    </tr>\n",
       "    <tr>\n",
       "      <th>2</th>\n",
       "      <td>28</td>\n",
       "      <td>male</td>\n",
       "      <td>33.000</td>\n",
       "      <td>3</td>\n",
       "      <td>no</td>\n",
       "      <td>southeast</td>\n",
       "      <td>4449.46200</td>\n",
       "    </tr>\n",
       "    <tr>\n",
       "      <th>3</th>\n",
       "      <td>33</td>\n",
       "      <td>male</td>\n",
       "      <td>22.705</td>\n",
       "      <td>0</td>\n",
       "      <td>no</td>\n",
       "      <td>northwest</td>\n",
       "      <td>21984.47061</td>\n",
       "    </tr>\n",
       "    <tr>\n",
       "      <th>4</th>\n",
       "      <td>32</td>\n",
       "      <td>male</td>\n",
       "      <td>28.880</td>\n",
       "      <td>0</td>\n",
       "      <td>no</td>\n",
       "      <td>northwest</td>\n",
       "      <td>3866.85520</td>\n",
       "    </tr>\n",
       "  </tbody>\n",
       "</table>\n",
       "</div>"
      ],
      "text/plain": [
       "   age     sex     bmi  children smoker     region      charges\n",
       "0   19  female  27.900         0    yes  southwest  16884.92400\n",
       "1   18    male  33.770         1     no  southeast   1725.55230\n",
       "2   28    male  33.000         3     no  southeast   4449.46200\n",
       "3   33    male  22.705         0     no  northwest  21984.47061\n",
       "4   32    male  28.880         0     no  northwest   3866.85520"
      ]
     },
     "execution_count": 8,
     "metadata": {},
     "output_type": "execute_result"
    }
   ],
   "source": [
    "df.head()"
   ]
  },
  {
   "cell_type": "markdown",
   "id": "fd233d14",
   "metadata": {
    "papermill": {
     "duration": 0.037593,
     "end_time": "2022-03-29T11:54:12.798137",
     "exception": false,
     "start_time": "2022-03-29T11:54:12.760544",
     "status": "completed"
    },
    "tags": []
   },
   "source": [
    "# Editing Categorical Data"
   ]
  },
  {
   "cell_type": "code",
   "execution_count": 9,
   "id": "6fb6df28",
   "metadata": {
    "execution": {
     "iopub.execute_input": "2022-03-29T11:54:12.876881Z",
     "iopub.status.busy": "2022-03-29T11:54:12.876146Z",
     "iopub.status.idle": "2022-03-29T11:54:12.883273Z",
     "shell.execute_reply": "2022-03-29T11:54:12.883826Z",
     "shell.execute_reply.started": "2022-03-29T10:51:09.071918Z"
    },
    "papermill": {
     "duration": 0.048388,
     "end_time": "2022-03-29T11:54:12.884031",
     "exception": false,
     "start_time": "2022-03-29T11:54:12.835643",
     "status": "completed"
    },
    "tags": []
   },
   "outputs": [],
   "source": [
    "def encoder(method, dataframe, columns_label, columns_onehot):\n",
    "    \n",
    "    if method == 'labelEncoder':      \n",
    "    \n",
    "        df_lbl = dataframe.copy()\n",
    "    \n",
    "        for col in columns_label:\n",
    "            label = LabelEncoder()\n",
    "            label.fit(list(dataframe[col].values))\n",
    "            df_lbl[col] = label.transform(df_lbl[col].values)\n",
    "        \n",
    "        return df_lbl\n",
    "    \n",
    "    elif method == 'oneHotEncoder':\n",
    "        \n",
    "        df_oh = dataframe.copy()\n",
    "\n",
    "        df_oh= pd.get_dummies(data = df_oh, prefix = 'ohe', prefix_sep='_',\n",
    "                       columns = columns_onehot,\n",
    "                       drop_first =True,\n",
    "                       dtype='int8')\n",
    "        \n",
    "        return df_oh"
   ]
  },
  {
   "cell_type": "code",
   "execution_count": 10,
   "id": "c7088cff",
   "metadata": {
    "execution": {
     "iopub.execute_input": "2022-03-29T11:54:12.966183Z",
     "iopub.status.busy": "2022-03-29T11:54:12.965520Z",
     "iopub.status.idle": "2022-03-29T11:54:12.989710Z",
     "shell.execute_reply": "2022-03-29T11:54:12.990231Z",
     "shell.execute_reply.started": "2022-03-29T10:51:11.232148Z"
    },
    "papermill": {
     "duration": 0.066025,
     "end_time": "2022-03-29T11:54:12.990408",
     "exception": false,
     "start_time": "2022-03-29T11:54:12.924383",
     "status": "completed"
    },
    "tags": []
   },
   "outputs": [
    {
     "data": {
      "text/html": [
       "<div>\n",
       "<style scoped>\n",
       "    .dataframe tbody tr th:only-of-type {\n",
       "        vertical-align: middle;\n",
       "    }\n",
       "\n",
       "    .dataframe tbody tr th {\n",
       "        vertical-align: top;\n",
       "    }\n",
       "\n",
       "    .dataframe thead th {\n",
       "        text-align: right;\n",
       "    }\n",
       "</style>\n",
       "<table border=\"1\" class=\"dataframe\">\n",
       "  <thead>\n",
       "    <tr style=\"text-align: right;\">\n",
       "      <th></th>\n",
       "      <th>age</th>\n",
       "      <th>sex</th>\n",
       "      <th>bmi</th>\n",
       "      <th>children</th>\n",
       "      <th>smoker</th>\n",
       "      <th>region</th>\n",
       "      <th>charges</th>\n",
       "    </tr>\n",
       "  </thead>\n",
       "  <tbody>\n",
       "    <tr>\n",
       "      <th>0</th>\n",
       "      <td>19</td>\n",
       "      <td>0</td>\n",
       "      <td>27.900</td>\n",
       "      <td>0</td>\n",
       "      <td>1</td>\n",
       "      <td>3</td>\n",
       "      <td>16884.92400</td>\n",
       "    </tr>\n",
       "    <tr>\n",
       "      <th>1</th>\n",
       "      <td>18</td>\n",
       "      <td>1</td>\n",
       "      <td>33.770</td>\n",
       "      <td>1</td>\n",
       "      <td>0</td>\n",
       "      <td>2</td>\n",
       "      <td>1725.55230</td>\n",
       "    </tr>\n",
       "    <tr>\n",
       "      <th>2</th>\n",
       "      <td>28</td>\n",
       "      <td>1</td>\n",
       "      <td>33.000</td>\n",
       "      <td>3</td>\n",
       "      <td>0</td>\n",
       "      <td>2</td>\n",
       "      <td>4449.46200</td>\n",
       "    </tr>\n",
       "    <tr>\n",
       "      <th>3</th>\n",
       "      <td>33</td>\n",
       "      <td>1</td>\n",
       "      <td>22.705</td>\n",
       "      <td>0</td>\n",
       "      <td>0</td>\n",
       "      <td>1</td>\n",
       "      <td>21984.47061</td>\n",
       "    </tr>\n",
       "    <tr>\n",
       "      <th>4</th>\n",
       "      <td>32</td>\n",
       "      <td>1</td>\n",
       "      <td>28.880</td>\n",
       "      <td>0</td>\n",
       "      <td>0</td>\n",
       "      <td>1</td>\n",
       "      <td>3866.85520</td>\n",
       "    </tr>\n",
       "  </tbody>\n",
       "</table>\n",
       "</div>"
      ],
      "text/plain": [
       "   age  sex     bmi  children  smoker  region      charges\n",
       "0   19    0  27.900         0       1       3  16884.92400\n",
       "1   18    1  33.770         1       0       2   1725.55230\n",
       "2   28    1  33.000         3       0       2   4449.46200\n",
       "3   33    1  22.705         0       0       1  21984.47061\n",
       "4   32    1  28.880         0       0       1   3866.85520"
      ]
     },
     "execution_count": 10,
     "metadata": {},
     "output_type": "execute_result"
    }
   ],
   "source": [
    "method =['labelEncoder', 'oneHotEncoder']\n",
    "dataframe = df.copy()\n",
    "columns_label = ['sex', 'smoker', 'region']\n",
    "columns_onehot = ['sex', 'smoker', 'region', 'children']\n",
    "\n",
    "df_label = encoder(method[0], dataframe, columns_label, columns_onehot)\n",
    "\n",
    "df_onehot = encoder(method[1], dataframe, columns_label, columns_onehot)\n",
    "\n",
    "df_label.head()"
   ]
  },
  {
   "cell_type": "code",
   "execution_count": 11,
   "id": "b9556588",
   "metadata": {
    "execution": {
     "iopub.execute_input": "2022-03-29T11:54:13.070972Z",
     "iopub.status.busy": "2022-03-29T11:54:13.070249Z",
     "iopub.status.idle": "2022-03-29T11:54:13.084959Z",
     "shell.execute_reply": "2022-03-29T11:54:13.085473Z",
     "shell.execute_reply.started": "2022-03-29T10:51:14.132607Z"
    },
    "papermill": {
     "duration": 0.056265,
     "end_time": "2022-03-29T11:54:13.085672",
     "exception": false,
     "start_time": "2022-03-29T11:54:13.029407",
     "status": "completed"
    },
    "tags": []
   },
   "outputs": [
    {
     "data": {
      "text/html": [
       "<div>\n",
       "<style scoped>\n",
       "    .dataframe tbody tr th:only-of-type {\n",
       "        vertical-align: middle;\n",
       "    }\n",
       "\n",
       "    .dataframe tbody tr th {\n",
       "        vertical-align: top;\n",
       "    }\n",
       "\n",
       "    .dataframe thead th {\n",
       "        text-align: right;\n",
       "    }\n",
       "</style>\n",
       "<table border=\"1\" class=\"dataframe\">\n",
       "  <thead>\n",
       "    <tr style=\"text-align: right;\">\n",
       "      <th></th>\n",
       "      <th>age</th>\n",
       "      <th>bmi</th>\n",
       "      <th>charges</th>\n",
       "      <th>ohe_male</th>\n",
       "      <th>ohe_yes</th>\n",
       "      <th>ohe_northwest</th>\n",
       "      <th>ohe_southeast</th>\n",
       "      <th>ohe_southwest</th>\n",
       "      <th>ohe_1</th>\n",
       "      <th>ohe_2</th>\n",
       "      <th>ohe_3</th>\n",
       "      <th>ohe_4</th>\n",
       "      <th>ohe_5</th>\n",
       "    </tr>\n",
       "  </thead>\n",
       "  <tbody>\n",
       "    <tr>\n",
       "      <th>0</th>\n",
       "      <td>19</td>\n",
       "      <td>27.900</td>\n",
       "      <td>16884.92400</td>\n",
       "      <td>0</td>\n",
       "      <td>1</td>\n",
       "      <td>0</td>\n",
       "      <td>0</td>\n",
       "      <td>1</td>\n",
       "      <td>0</td>\n",
       "      <td>0</td>\n",
       "      <td>0</td>\n",
       "      <td>0</td>\n",
       "      <td>0</td>\n",
       "    </tr>\n",
       "    <tr>\n",
       "      <th>1</th>\n",
       "      <td>18</td>\n",
       "      <td>33.770</td>\n",
       "      <td>1725.55230</td>\n",
       "      <td>1</td>\n",
       "      <td>0</td>\n",
       "      <td>0</td>\n",
       "      <td>1</td>\n",
       "      <td>0</td>\n",
       "      <td>1</td>\n",
       "      <td>0</td>\n",
       "      <td>0</td>\n",
       "      <td>0</td>\n",
       "      <td>0</td>\n",
       "    </tr>\n",
       "    <tr>\n",
       "      <th>2</th>\n",
       "      <td>28</td>\n",
       "      <td>33.000</td>\n",
       "      <td>4449.46200</td>\n",
       "      <td>1</td>\n",
       "      <td>0</td>\n",
       "      <td>0</td>\n",
       "      <td>1</td>\n",
       "      <td>0</td>\n",
       "      <td>0</td>\n",
       "      <td>0</td>\n",
       "      <td>1</td>\n",
       "      <td>0</td>\n",
       "      <td>0</td>\n",
       "    </tr>\n",
       "    <tr>\n",
       "      <th>3</th>\n",
       "      <td>33</td>\n",
       "      <td>22.705</td>\n",
       "      <td>21984.47061</td>\n",
       "      <td>1</td>\n",
       "      <td>0</td>\n",
       "      <td>1</td>\n",
       "      <td>0</td>\n",
       "      <td>0</td>\n",
       "      <td>0</td>\n",
       "      <td>0</td>\n",
       "      <td>0</td>\n",
       "      <td>0</td>\n",
       "      <td>0</td>\n",
       "    </tr>\n",
       "    <tr>\n",
       "      <th>4</th>\n",
       "      <td>32</td>\n",
       "      <td>28.880</td>\n",
       "      <td>3866.85520</td>\n",
       "      <td>1</td>\n",
       "      <td>0</td>\n",
       "      <td>1</td>\n",
       "      <td>0</td>\n",
       "      <td>0</td>\n",
       "      <td>0</td>\n",
       "      <td>0</td>\n",
       "      <td>0</td>\n",
       "      <td>0</td>\n",
       "      <td>0</td>\n",
       "    </tr>\n",
       "  </tbody>\n",
       "</table>\n",
       "</div>"
      ],
      "text/plain": [
       "   age     bmi      charges  ohe_male  ohe_yes  ohe_northwest  ohe_southeast  \\\n",
       "0   19  27.900  16884.92400         0        1              0              0   \n",
       "1   18  33.770   1725.55230         1        0              0              1   \n",
       "2   28  33.000   4449.46200         1        0              0              1   \n",
       "3   33  22.705  21984.47061         1        0              1              0   \n",
       "4   32  28.880   3866.85520         1        0              1              0   \n",
       "\n",
       "   ohe_southwest  ohe_1  ohe_2  ohe_3  ohe_4  ohe_5  \n",
       "0              1      0      0      0      0      0  \n",
       "1              0      1      0      0      0      0  \n",
       "2              0      0      0      1      0      0  \n",
       "3              0      0      0      0      0      0  \n",
       "4              0      0      0      0      0      0  "
      ]
     },
     "execution_count": 11,
     "metadata": {},
     "output_type": "execute_result"
    }
   ],
   "source": [
    "df_onehot.head()"
   ]
  },
  {
   "cell_type": "markdown",
   "id": "a1ca1587",
   "metadata": {
    "papermill": {
     "duration": 0.03828,
     "end_time": "2022-03-29T11:54:13.163591",
     "exception": false,
     "start_time": "2022-03-29T11:54:13.125311",
     "status": "completed"
    },
    "tags": []
   },
   "source": [
    "# Scaling data"
   ]
  },
  {
   "cell_type": "code",
   "execution_count": 12,
   "id": "d1af6ff4",
   "metadata": {
    "execution": {
     "iopub.execute_input": "2022-03-29T11:54:13.244372Z",
     "iopub.status.busy": "2022-03-29T11:54:13.243656Z",
     "iopub.status.idle": "2022-03-29T11:54:13.250912Z",
     "shell.execute_reply": "2022-03-29T11:54:13.251483Z",
     "shell.execute_reply.started": "2022-03-29T11:10:45.029650Z"
    },
    "papermill": {
     "duration": 0.049571,
     "end_time": "2022-03-29T11:54:13.251665",
     "exception": false,
     "start_time": "2022-03-29T11:54:13.202094",
     "status": "completed"
    },
    "tags": []
   },
   "outputs": [],
   "source": [
    "def scaler(method, data, columns_scaler):\n",
    "    \n",
    "    if method == 'standartScaler':\n",
    "        \n",
    "        Standart = StandardScaler()\n",
    "\n",
    "        df_standart = data.copy()\n",
    "\n",
    "        df_standart[columns_scaler]=Standart.fit_transform(df_standart[columns_scaler])\n",
    "        \n",
    "        return df_standart\n",
    "        \n",
    "    elif method == 'minMaxScaler':\n",
    "        \n",
    "        MinMax= MinMaxScaler()\n",
    "\n",
    "        df_minmax = data.copy()\n",
    "\n",
    "        df_minmax[columns_scaler]=MinMax.fit_transform(df_minmax[columns_scaler])\n",
    "        \n",
    "        return df_minmax\n",
    "    \n",
    "    elif method =='npLog':\n",
    "        \n",
    "        df_nplog = data.copy()\n",
    "\n",
    "        df_nplog[columns_scaler]=np.log(df_nplog[columns_scaler])\n",
    "        \n",
    "        return df_nplog\n",
    "    \n",
    "    elif method == 'default':\n",
    "        \n",
    "        return data"
   ]
  },
  {
   "cell_type": "code",
   "execution_count": 13,
   "id": "4c29fd4c",
   "metadata": {
    "execution": {
     "iopub.execute_input": "2022-03-29T11:54:13.332401Z",
     "iopub.status.busy": "2022-03-29T11:54:13.331794Z",
     "iopub.status.idle": "2022-03-29T11:54:13.340554Z",
     "shell.execute_reply": "2022-03-29T11:54:13.341122Z",
     "shell.execute_reply.started": "2022-03-29T11:10:55.880411Z"
    },
    "papermill": {
     "duration": 0.050535,
     "end_time": "2022-03-29T11:54:13.341292",
     "exception": false,
     "start_time": "2022-03-29T11:54:13.290757",
     "status": "completed"
    },
    "tags": []
   },
   "outputs": [],
   "source": [
    "method = 'minMaxScaler'\n",
    "data = df_label\n",
    "columns_scaler = ['bmi', 'charges']\n",
    "\n",
    "df_scaler = scaler(method, data, columns_scaler)"
   ]
  },
  {
   "cell_type": "code",
   "execution_count": 14,
   "id": "6e11ad19",
   "metadata": {
    "execution": {
     "iopub.execute_input": "2022-03-29T11:54:13.429846Z",
     "iopub.status.busy": "2022-03-29T11:54:13.429135Z",
     "iopub.status.idle": "2022-03-29T11:54:13.432758Z",
     "shell.execute_reply": "2022-03-29T11:54:13.433355Z",
     "shell.execute_reply.started": "2022-03-29T11:47:03.386348Z"
    },
    "papermill": {
     "duration": 0.053417,
     "end_time": "2022-03-29T11:54:13.433544",
     "exception": false,
     "start_time": "2022-03-29T11:54:13.380127",
     "status": "completed"
    },
    "tags": []
   },
   "outputs": [
    {
     "data": {
      "text/html": [
       "<div>\n",
       "<style scoped>\n",
       "    .dataframe tbody tr th:only-of-type {\n",
       "        vertical-align: middle;\n",
       "    }\n",
       "\n",
       "    .dataframe tbody tr th {\n",
       "        vertical-align: top;\n",
       "    }\n",
       "\n",
       "    .dataframe thead th {\n",
       "        text-align: right;\n",
       "    }\n",
       "</style>\n",
       "<table border=\"1\" class=\"dataframe\">\n",
       "  <thead>\n",
       "    <tr style=\"text-align: right;\">\n",
       "      <th></th>\n",
       "      <th>age</th>\n",
       "      <th>sex</th>\n",
       "      <th>bmi</th>\n",
       "      <th>children</th>\n",
       "      <th>smoker</th>\n",
       "      <th>region</th>\n",
       "      <th>charges</th>\n",
       "    </tr>\n",
       "  </thead>\n",
       "  <tbody>\n",
       "    <tr>\n",
       "      <th>0</th>\n",
       "      <td>19</td>\n",
       "      <td>0</td>\n",
       "      <td>0.321227</td>\n",
       "      <td>0</td>\n",
       "      <td>1</td>\n",
       "      <td>3</td>\n",
       "      <td>0.251611</td>\n",
       "    </tr>\n",
       "    <tr>\n",
       "      <th>1</th>\n",
       "      <td>18</td>\n",
       "      <td>1</td>\n",
       "      <td>0.479150</td>\n",
       "      <td>1</td>\n",
       "      <td>0</td>\n",
       "      <td>2</td>\n",
       "      <td>0.009636</td>\n",
       "    </tr>\n",
       "    <tr>\n",
       "      <th>2</th>\n",
       "      <td>28</td>\n",
       "      <td>1</td>\n",
       "      <td>0.458434</td>\n",
       "      <td>3</td>\n",
       "      <td>0</td>\n",
       "      <td>2</td>\n",
       "      <td>0.053115</td>\n",
       "    </tr>\n",
       "    <tr>\n",
       "      <th>3</th>\n",
       "      <td>33</td>\n",
       "      <td>1</td>\n",
       "      <td>0.181464</td>\n",
       "      <td>0</td>\n",
       "      <td>0</td>\n",
       "      <td>1</td>\n",
       "      <td>0.333010</td>\n",
       "    </tr>\n",
       "    <tr>\n",
       "      <th>4</th>\n",
       "      <td>32</td>\n",
       "      <td>1</td>\n",
       "      <td>0.347592</td>\n",
       "      <td>0</td>\n",
       "      <td>0</td>\n",
       "      <td>1</td>\n",
       "      <td>0.043816</td>\n",
       "    </tr>\n",
       "  </tbody>\n",
       "</table>\n",
       "</div>"
      ],
      "text/plain": [
       "   age  sex       bmi  children  smoker  region   charges\n",
       "0   19    0  0.321227         0       1       3  0.251611\n",
       "1   18    1  0.479150         1       0       2  0.009636\n",
       "2   28    1  0.458434         3       0       2  0.053115\n",
       "3   33    1  0.181464         0       0       1  0.333010\n",
       "4   32    1  0.347592         0       0       1  0.043816"
      ]
     },
     "execution_count": 14,
     "metadata": {},
     "output_type": "execute_result"
    }
   ],
   "source": [
    "df_scaler.head()"
   ]
  },
  {
   "cell_type": "code",
   "execution_count": 15,
   "id": "955fe488",
   "metadata": {
    "execution": {
     "iopub.execute_input": "2022-03-29T11:54:13.515855Z",
     "iopub.status.busy": "2022-03-29T11:54:13.515155Z",
     "iopub.status.idle": "2022-03-29T11:54:13.519462Z",
     "shell.execute_reply": "2022-03-29T11:54:13.519984Z",
     "shell.execute_reply.started": "2022-03-29T11:10:57.726753Z"
    },
    "papermill": {
     "duration": 0.047276,
     "end_time": "2022-03-29T11:54:13.520154",
     "exception": false,
     "start_time": "2022-03-29T11:54:13.472878",
     "status": "completed"
    },
    "tags": []
   },
   "outputs": [],
   "source": [
    "def mean_absolute_percentage_error(y_true, y_pred): \n",
    "    y_true, y_pred = np.array(y_true), np.array(y_pred)\n",
    "    return np.mean(np.abs((y_true - y_pred) / y_true))"
   ]
  },
  {
   "cell_type": "markdown",
   "id": "9df9ec64",
   "metadata": {
    "papermill": {
     "duration": 0.038544,
     "end_time": "2022-03-29T11:54:13.598872",
     "exception": false,
     "start_time": "2022-03-29T11:54:13.560328",
     "status": "completed"
    },
    "tags": []
   },
   "source": [
    "# Training and Prediction Without Hyperparameter Tuning"
   ]
  },
  {
   "cell_type": "code",
   "execution_count": 16,
   "id": "ba2db763",
   "metadata": {
    "execution": {
     "iopub.execute_input": "2022-03-29T11:54:13.679775Z",
     "iopub.status.busy": "2022-03-29T11:54:13.679097Z",
     "iopub.status.idle": "2022-03-29T11:54:13.686023Z",
     "shell.execute_reply": "2022-03-29T11:54:13.686634Z",
     "shell.execute_reply.started": "2022-03-29T11:26:41.270288Z"
    },
    "papermill": {
     "duration": 0.049109,
     "end_time": "2022-03-29T11:54:13.686816",
     "exception": false,
     "start_time": "2022-03-29T11:54:13.637707",
     "status": "completed"
    },
    "tags": []
   },
   "outputs": [],
   "source": [
    "X = df_scaler.drop('charges',axis=1)\n",
    "y = df_scaler['charges']\n",
    "X_train, X_test, y_train, y_test = train_test_split(X,y,test_size=0.3,random_state=16)"
   ]
  },
  {
   "cell_type": "code",
   "execution_count": 17,
   "id": "a501c488",
   "metadata": {
    "execution": {
     "iopub.execute_input": "2022-03-29T11:54:13.770489Z",
     "iopub.status.busy": "2022-03-29T11:54:13.769809Z",
     "iopub.status.idle": "2022-03-29T11:54:14.124359Z",
     "shell.execute_reply": "2022-03-29T11:54:14.123736Z",
     "shell.execute_reply.started": "2022-03-29T11:26:42.408094Z"
    },
    "papermill": {
     "duration": 0.396306,
     "end_time": "2022-03-29T11:54:14.124540",
     "exception": false,
     "start_time": "2022-03-29T11:54:13.728234",
     "status": "completed"
    },
    "tags": []
   },
   "outputs": [
    {
     "name": "stdout",
     "output_type": "stream",
     "text": [
      "Train MAE : 0.015380042502886937\n",
      "Test MAE : 0.042541620251306776\n",
      "Train R2 : 0.9761169982562852\n",
      "Test R2 : 0.8369807321937276\n"
     ]
    }
   ],
   "source": [
    "RandomForestRegressor=RandomForestRegressor(random_state = 42)\n",
    "\n",
    "RandomForestRegressor.fit(X_train, y_train)\n",
    "\n",
    "train_pred = RandomForestRegressor.predict(X_train)\n",
    "test_pred = RandomForestRegressor.predict(X_test)\n",
    "\n",
    "print('Train MAE :', mean_absolute_error(y_train,train_pred))\n",
    "\n",
    "print('Test MAE :', mean_absolute_error(y_test, test_pred))\n",
    "\n",
    "print('Train R2 :', r2_score(y_train,train_pred))\n",
    "\n",
    "print('Test R2 :', r2_score(y_test, test_pred))"
   ]
  },
  {
   "cell_type": "markdown",
   "id": "f7929721",
   "metadata": {
    "papermill": {
     "duration": 0.039852,
     "end_time": "2022-03-29T11:54:14.205159",
     "exception": false,
     "start_time": "2022-03-29T11:54:14.165307",
     "status": "completed"
    },
    "tags": []
   },
   "source": [
    "# Hyperparameter Tuning"
   ]
  },
  {
   "cell_type": "code",
   "execution_count": 18,
   "id": "ac23e67b",
   "metadata": {
    "execution": {
     "iopub.execute_input": "2022-03-29T11:54:14.294804Z",
     "iopub.status.busy": "2022-03-29T11:54:14.294041Z",
     "iopub.status.idle": "2022-03-29T11:54:14.300768Z",
     "shell.execute_reply": "2022-03-29T11:54:14.301308Z",
     "shell.execute_reply.started": "2022-03-29T11:26:45.042966Z"
    },
    "papermill": {
     "duration": 0.056611,
     "end_time": "2022-03-29T11:54:14.301513",
     "exception": false,
     "start_time": "2022-03-29T11:54:14.244902",
     "status": "completed"
    },
    "tags": []
   },
   "outputs": [],
   "source": [
    "def regression_gridsearch(param_grid_data, model_params, func_input):\n",
    "    last=[]\n",
    "    model_params=model_params\n",
    "    for params in param_grid_data:\n",
    "        \n",
    "        result = {}\n",
    "        result['encoder'] = params['encoder']\n",
    "        result['scaler'] = params['scaler']\n",
    "        result['random_state'] = params['random_state']\n",
    "        result['test_size'] = params['test_size']\n",
    "        \n",
    "        data = encoder(params['encoder'], func_input['data'], func_input['columns_label'], func_input['columns_onehot'] )\n",
    "        data = scaler(params['scaler'], data,func_input['columns_scaler'])\n",
    "        \n",
    "        \n",
    "        X = data.drop(func_input['output'],axis=1)\n",
    "        y = data[func_input['output']].values.reshape(-1,)\n",
    "        X_train, X_test, y_train, y_test = train_test_split(X,y,test_size=params['test_size'],random_state=params['random_state'])      \n",
    "        \n",
    "        for model_name, mp in model_params.items():\n",
    "            res={}\n",
    "            res=result\n",
    "            clf =  GridSearchCV(mp['model'], mp['params'], cv=5, return_train_score=False)\n",
    "            clf.fit(X_train, y_train)\n",
    "            pred = clf.predict(X_test)\n",
    "            test_score = r2_score(y_test, pred)\n",
    "            test_mape = mean_absolute_percentage_error(y_test, pred)\n",
    "            res['model']=model_name\n",
    "            res['best_score']=clf.best_score_\n",
    "            res['test_score']=test_score\n",
    "            res['test_mape']=test_mape\n",
    "            res['best_params']=clf.best_params_     \n",
    "            last.append(res)\n",
    "    result = pd.DataFrame(last, columns=['encoder','scaler','random_state','test_size','model','best_score','test_score','test_mape','best_params'])\n",
    "    \n",
    "    return result "
   ]
  },
  {
   "cell_type": "markdown",
   "id": "bbe6b434",
   "metadata": {
    "papermill": {
     "duration": 0.039595,
     "end_time": "2022-03-29T11:54:14.381307",
     "exception": false,
     "start_time": "2022-03-29T11:54:14.341712",
     "status": "completed"
    },
    "tags": []
   },
   "source": [
    "Bootstrap : Whether bootstrap samples are used when building trees. If False, the whole dataset is used to build each tree.\n",
    "\n",
    "Max_Depth : The maximum depth of the tree. If None, then nodes are expanded until all leaves are pure or until all leaves contain less than min_samples_split samples.\n",
    "\n",
    "Min_Samples_Leaf : The minimum number of samples required to be at a leaf node. A split point at any depth will only be considered if it leaves at least min_samples_leaf training samples in each of the left and right branches. This may have the effect of smoothing the model, especially in regression.\n",
    "\n",
    "Min_Samples_Split : The minimum number of samples required to split an internal node.\n",
    "\n",
    "N_Estimators : The number of trees in the forest.\n",
    "\n",
    "Random_State : Controls both the randomness of the bootstrapping of the samples used when building trees (if bootstrap=True) and the sampling of the features to consider when looking for the best split at each node (if max_features < n_features). \n"
   ]
  },
  {
   "cell_type": "code",
   "execution_count": 19,
   "id": "a7ef8bd4",
   "metadata": {
    "execution": {
     "iopub.execute_input": "2022-03-29T11:54:14.465129Z",
     "iopub.status.busy": "2022-03-29T11:54:14.464391Z",
     "iopub.status.idle": "2022-03-29T11:54:14.473586Z",
     "shell.execute_reply": "2022-03-29T11:54:14.474236Z",
     "shell.execute_reply.started": "2022-03-29T11:29:34.176805Z"
    },
    "papermill": {
     "duration": 0.053423,
     "end_time": "2022-03-29T11:54:14.474419",
     "exception": false,
     "start_time": "2022-03-29T11:54:14.420996",
     "status": "completed"
    },
    "tags": []
   },
   "outputs": [],
   "source": [
    "from sklearn.ensemble import RandomForestRegressor\n",
    "\n",
    "param_grid_data = { \n",
    "    'encoder' : ['labelEncoder', 'oneHotEncoder'],\n",
    "    'scaler' : ['standartScaler', 'minMaxScaler', 'npLog', 'default'],\n",
    "    'random_state' : [16],\n",
    "    'test_size' : [0.3]\n",
    "}\n",
    "\n",
    "param_grid_data = [dict(zip(param_grid_data.keys(), v)) for v in itertools.product(*param_grid_data.values())]\n",
    "\n",
    "func_input = {\n",
    "    'columns_label': ['sex', 'smoker', 'region'],\n",
    "    'columns_onehot' : ['sex', 'smoker', 'region', 'children'],\n",
    "    'columns_scaler' : ['bmi', 'charges'],\n",
    "    'output' : ['charges'],\n",
    "    'data' : df,\n",
    "}\n",
    "\n",
    "RandomForestRegressor_params = {\n",
    "    'RFRegressor': {\n",
    "    'model': RandomForestRegressor(),\n",
    "    'params' : {'bootstrap': [True], # True, False\n",
    "                'max_depth': [10, 20, 50], # 10, 20, 30, 40, 50, 60, 70, 80, 90, 100, None\n",
    "                'max_features': ['auto','sqrt'], # 'auto','sqrt'\n",
    "                'min_samples_leaf': [1, 2, 4], #1, 2, 4\n",
    "                'min_samples_split': [2, 5], # 2, 5, 10\n",
    "                'n_estimators': [100, 200],\n",
    "                'random_state' : [42]}}, # 200, 400, 800, 1000, 1200\n",
    "        }"
   ]
  },
  {
   "cell_type": "code",
   "execution_count": 20,
   "id": "7b5058bf",
   "metadata": {
    "execution": {
     "iopub.execute_input": "2022-03-29T11:54:14.557827Z",
     "iopub.status.busy": "2022-03-29T11:54:14.556412Z",
     "iopub.status.idle": "2022-03-29T12:10:28.994671Z",
     "shell.execute_reply": "2022-03-29T12:10:28.993539Z",
     "shell.execute_reply.started": "2022-03-29T11:29:36.291434Z"
    },
    "papermill": {
     "duration": 974.481103,
     "end_time": "2022-03-29T12:10:28.994969",
     "exception": false,
     "start_time": "2022-03-29T11:54:14.513866",
     "status": "completed"
    },
    "tags": []
   },
   "outputs": [
    {
     "name": "stderr",
     "output_type": "stream",
     "text": [
      "/opt/conda/lib/python3.7/site-packages/ipykernel_launcher.py:3: RuntimeWarning: divide by zero encountered in true_divide\n",
      "  This is separate from the ipykernel package so we can avoid doing imports until\n",
      "/opt/conda/lib/python3.7/site-packages/ipykernel_launcher.py:3: RuntimeWarning: divide by zero encountered in true_divide\n",
      "  This is separate from the ipykernel package so we can avoid doing imports until\n"
     ]
    }
   ],
   "source": [
    "RFR_result=regression_gridsearch(param_grid_data, RandomForestRegressor_params, func_input)"
   ]
  },
  {
   "cell_type": "code",
   "execution_count": 21,
   "id": "6d0cb7ee",
   "metadata": {
    "execution": {
     "iopub.execute_input": "2022-03-29T12:10:29.103780Z",
     "iopub.status.busy": "2022-03-29T12:10:29.102857Z",
     "iopub.status.idle": "2022-03-29T12:10:29.106515Z",
     "shell.execute_reply": "2022-03-29T12:10:29.107071Z",
     "shell.execute_reply.started": "2022-03-29T11:50:07.761708Z"
    },
    "papermill": {
     "duration": 0.066426,
     "end_time": "2022-03-29T12:10:29.107248",
     "exception": false,
     "start_time": "2022-03-29T12:10:29.040822",
     "status": "completed"
    },
    "tags": []
   },
   "outputs": [
    {
     "data": {
      "text/html": [
       "<div>\n",
       "<style scoped>\n",
       "    .dataframe tbody tr th:only-of-type {\n",
       "        vertical-align: middle;\n",
       "    }\n",
       "\n",
       "    .dataframe tbody tr th {\n",
       "        vertical-align: top;\n",
       "    }\n",
       "\n",
       "    .dataframe thead th {\n",
       "        text-align: right;\n",
       "    }\n",
       "</style>\n",
       "<table border=\"1\" class=\"dataframe\">\n",
       "  <thead>\n",
       "    <tr style=\"text-align: right;\">\n",
       "      <th></th>\n",
       "      <th>encoder</th>\n",
       "      <th>scaler</th>\n",
       "      <th>random_state</th>\n",
       "      <th>test_size</th>\n",
       "      <th>model</th>\n",
       "      <th>best_score</th>\n",
       "      <th>test_score</th>\n",
       "      <th>test_mape</th>\n",
       "      <th>best_params</th>\n",
       "    </tr>\n",
       "  </thead>\n",
       "  <tbody>\n",
       "    <tr>\n",
       "      <th>0</th>\n",
       "      <td>labelEncoder</td>\n",
       "      <td>standartScaler</td>\n",
       "      <td>16</td>\n",
       "      <td>0.3</td>\n",
       "      <td>RFRegressor</td>\n",
       "      <td>0.859100</td>\n",
       "      <td>0.852207</td>\n",
       "      <td>0.853929</td>\n",
       "      <td>{'bootstrap': True, 'max_depth': 20, 'max_feat...</td>\n",
       "    </tr>\n",
       "    <tr>\n",
       "      <th>1</th>\n",
       "      <td>labelEncoder</td>\n",
       "      <td>minMaxScaler</td>\n",
       "      <td>16</td>\n",
       "      <td>0.3</td>\n",
       "      <td>RFRegressor</td>\n",
       "      <td>0.859112</td>\n",
       "      <td>0.852170</td>\n",
       "      <td>inf</td>\n",
       "      <td>{'bootstrap': True, 'max_depth': 20, 'max_feat...</td>\n",
       "    </tr>\n",
       "    <tr>\n",
       "      <th>2</th>\n",
       "      <td>labelEncoder</td>\n",
       "      <td>npLog</td>\n",
       "      <td>16</td>\n",
       "      <td>0.3</td>\n",
       "      <td>RFRegressor</td>\n",
       "      <td>0.852468</td>\n",
       "      <td>0.798658</td>\n",
       "      <td>0.021884</td>\n",
       "      <td>{'bootstrap': True, 'max_depth': 20, 'max_feat...</td>\n",
       "    </tr>\n",
       "    <tr>\n",
       "      <th>3</th>\n",
       "      <td>labelEncoder</td>\n",
       "      <td>default</td>\n",
       "      <td>16</td>\n",
       "      <td>0.3</td>\n",
       "      <td>RFRegressor</td>\n",
       "      <td>0.859137</td>\n",
       "      <td>0.853895</td>\n",
       "      <td>0.245911</td>\n",
       "      <td>{'bootstrap': True, 'max_depth': 20, 'max_feat...</td>\n",
       "    </tr>\n",
       "    <tr>\n",
       "      <th>4</th>\n",
       "      <td>oneHotEncoder</td>\n",
       "      <td>standartScaler</td>\n",
       "      <td>16</td>\n",
       "      <td>0.3</td>\n",
       "      <td>RFRegressor</td>\n",
       "      <td>0.854013</td>\n",
       "      <td>0.850116</td>\n",
       "      <td>0.924765</td>\n",
       "      <td>{'bootstrap': True, 'max_depth': 20, 'max_feat...</td>\n",
       "    </tr>\n",
       "  </tbody>\n",
       "</table>\n",
       "</div>"
      ],
      "text/plain": [
       "         encoder          scaler  random_state  test_size        model  \\\n",
       "0   labelEncoder  standartScaler            16        0.3  RFRegressor   \n",
       "1   labelEncoder    minMaxScaler            16        0.3  RFRegressor   \n",
       "2   labelEncoder           npLog            16        0.3  RFRegressor   \n",
       "3   labelEncoder         default            16        0.3  RFRegressor   \n",
       "4  oneHotEncoder  standartScaler            16        0.3  RFRegressor   \n",
       "\n",
       "   best_score  test_score  test_mape  \\\n",
       "0    0.859100    0.852207   0.853929   \n",
       "1    0.859112    0.852170        inf   \n",
       "2    0.852468    0.798658   0.021884   \n",
       "3    0.859137    0.853895   0.245911   \n",
       "4    0.854013    0.850116   0.924765   \n",
       "\n",
       "                                         best_params  \n",
       "0  {'bootstrap': True, 'max_depth': 20, 'max_feat...  \n",
       "1  {'bootstrap': True, 'max_depth': 20, 'max_feat...  \n",
       "2  {'bootstrap': True, 'max_depth': 20, 'max_feat...  \n",
       "3  {'bootstrap': True, 'max_depth': 20, 'max_feat...  \n",
       "4  {'bootstrap': True, 'max_depth': 20, 'max_feat...  "
      ]
     },
     "execution_count": 21,
     "metadata": {},
     "output_type": "execute_result"
    }
   ],
   "source": [
    "RFR_result.head()"
   ]
  },
  {
   "cell_type": "markdown",
   "id": "f9f86566",
   "metadata": {
    "papermill": {
     "duration": 0.042764,
     "end_time": "2022-03-29T12:10:29.196966",
     "exception": false,
     "start_time": "2022-03-29T12:10:29.154202",
     "status": "completed"
    },
    "tags": []
   },
   "source": [
    "# Best Hyperparameter and Data Selection for The Model"
   ]
  },
  {
   "cell_type": "code",
   "execution_count": 22,
   "id": "d1f544cd",
   "metadata": {
    "execution": {
     "iopub.execute_input": "2022-03-29T12:10:29.287852Z",
     "iopub.status.busy": "2022-03-29T12:10:29.286936Z",
     "iopub.status.idle": "2022-03-29T12:10:29.294515Z",
     "shell.execute_reply": "2022-03-29T12:10:29.295155Z",
     "shell.execute_reply.started": "2022-03-29T11:45:55.684193Z"
    },
    "papermill": {
     "duration": 0.053698,
     "end_time": "2022-03-29T12:10:29.295352",
     "exception": false,
     "start_time": "2022-03-29T12:10:29.241654",
     "status": "completed"
    },
    "tags": []
   },
   "outputs": [],
   "source": [
    "def best_params(model_name, result):\n",
    "    \n",
    "    best_index =np.argmax(result['test_score'])\n",
    "\n",
    "    best_params = result['best_params'][best_index]\n",
    "    best_encoder = result['encoder'][best_index]\n",
    "    best_scaler = result['scaler'][best_index]\n",
    "    best_random_state = result['random_state'][best_index]\n",
    "    best_test_size = result['test_size'][best_index]\n",
    "    \n",
    "    print('\\nModel Name: ', model_name, '\\nBest Params: ', best_params, '\\nBest Encoder: ', best_encoder, '\\nBest Scaler: ', best_scaler, '\\nBest Random State: ', best_random_state, '\\nBest Test Size: ', best_test_size)\n",
    "\n",
    "    best_params = {\n",
    "        'params' : best_params,\n",
    "        'encoder' : best_encoder,\n",
    "        'scaler' : best_scaler,\n",
    "        'random_state' : best_random_state,\n",
    "        'test_size' : best_test_size   \n",
    "        }\n",
    "    \n",
    "    return best_params"
   ]
  },
  {
   "cell_type": "code",
   "execution_count": 23,
   "id": "fd045443",
   "metadata": {
    "execution": {
     "iopub.execute_input": "2022-03-29T12:10:29.390806Z",
     "iopub.status.busy": "2022-03-29T12:10:29.389060Z",
     "iopub.status.idle": "2022-03-29T12:10:29.397155Z",
     "shell.execute_reply": "2022-03-29T12:10:29.397814Z",
     "shell.execute_reply.started": "2022-03-29T11:45:58.070662Z"
    },
    "papermill": {
     "duration": 0.0572,
     "end_time": "2022-03-29T12:10:29.397998",
     "exception": false,
     "start_time": "2022-03-29T12:10:29.340798",
     "status": "completed"
    },
    "tags": []
   },
   "outputs": [
    {
     "name": "stdout",
     "output_type": "stream",
     "text": [
      "\n",
      "Model Name:  Random Forest Regression \n",
      "Best Params:  {'bootstrap': True, 'max_depth': 20, 'max_features': 'auto', 'min_samples_leaf': 4, 'min_samples_split': 2, 'n_estimators': 100, 'random_state': 42} \n",
      "Best Encoder:  labelEncoder \n",
      "Best Scaler:  default \n",
      "Best Random State:  16 \n",
      "Best Test Size:  0.3\n"
     ]
    }
   ],
   "source": [
    "best_params_rfr = best_params('Random Forest Regression', RFR_result)"
   ]
  },
  {
   "cell_type": "code",
   "execution_count": 24,
   "id": "41e80573",
   "metadata": {
    "execution": {
     "iopub.execute_input": "2022-03-29T12:10:29.491708Z",
     "iopub.status.busy": "2022-03-29T12:10:29.490667Z",
     "iopub.status.idle": "2022-03-29T12:10:29.498852Z",
     "shell.execute_reply": "2022-03-29T12:10:29.499518Z",
     "shell.execute_reply.started": "2022-03-29T11:46:01.086077Z"
    },
    "papermill": {
     "duration": 0.056691,
     "end_time": "2022-03-29T12:10:29.499716",
     "exception": false,
     "start_time": "2022-03-29T12:10:29.443025",
     "status": "completed"
    },
    "tags": []
   },
   "outputs": [],
   "source": [
    "def best_data(best_params, func_input):\n",
    "\n",
    "    data = encoder(best_params['encoder'], func_input['data'], func_input['columns_label'], func_input['columns_onehot'])\n",
    "    data = scaler(best_params['scaler'], data, func_input['columns_scaler'])\n",
    "\n",
    "    X = data.drop(func_input['output'],axis=1)\n",
    "    y = data[func_input['output']].values.reshape(-1,)\n",
    "    X_train, X_test, y_train, y_test = train_test_split(X,y,test_size=best_params['test_size'],random_state=best_params['random_state'])\n",
    "    \n",
    "    return X, y, X_train, X_test, y_train, y_test"
   ]
  },
  {
   "cell_type": "markdown",
   "id": "259f1480",
   "metadata": {
    "papermill": {
     "duration": 0.044597,
     "end_time": "2022-03-29T12:10:29.589404",
     "exception": false,
     "start_time": "2022-03-29T12:10:29.544807",
     "status": "completed"
    },
    "tags": []
   },
   "source": [
    "# Training and Prediction with The Best Parameter"
   ]
  },
  {
   "cell_type": "code",
   "execution_count": 25,
   "id": "4ac10c3c",
   "metadata": {
    "execution": {
     "iopub.execute_input": "2022-03-29T12:10:29.686203Z",
     "iopub.status.busy": "2022-03-29T12:10:29.685123Z",
     "iopub.status.idle": "2022-03-29T12:10:29.988718Z",
     "shell.execute_reply": "2022-03-29T12:10:29.988128Z",
     "shell.execute_reply.started": "2022-03-29T11:46:03.177825Z"
    },
    "papermill": {
     "duration": 0.355619,
     "end_time": "2022-03-29T12:10:29.988881",
     "exception": false,
     "start_time": "2022-03-29T12:10:29.633262",
     "status": "completed"
    },
    "tags": []
   },
   "outputs": [
    {
     "name": "stdout",
     "output_type": "stream",
     "text": [
      "Train MAE : 1770.893026342933\n",
      "Test MAE : 2572.846551420561\n",
      "Train R2 : 0.9187956321621771\n",
      "Test R2 : 0.8541754885797586\n"
     ]
    }
   ],
   "source": [
    "X, y, X_train, X_test, y_train, y_test = best_data(best_params_rfr, func_input)\n",
    "\n",
    "RandomForestRegressor=RandomForestRegressor(bootstrap = best_params_rfr['params']['bootstrap'], max_depth = best_params_rfr['params']['max_depth'],\n",
    "                                            max_features = best_params_rfr['params']['max_features'], min_samples_leaf = best_params_rfr['params']['min_samples_leaf'],\n",
    "                                            min_samples_split = best_params_rfr['params']['min_samples_split'], n_estimators = best_params_rfr['params']['n_estimators'],\n",
    "                                            )\n",
    "\n",
    "RandomForestRegressor.fit(X_train, y_train)\n",
    "\n",
    "train_pred = RandomForestRegressor.predict(X_train)\n",
    "test_pred = RandomForestRegressor.predict(X_test)\n",
    "\n",
    "print('Train MAE :', mean_absolute_error(y_train,train_pred))\n",
    "\n",
    "print('Test MAE :', mean_absolute_error(y_test, test_pred))\n",
    "\n",
    "print('Train R2 :', r2_score(y_train,train_pred))\n",
    "\n",
    "print('Test R2 :', r2_score(y_test, test_pred))"
   ]
  },
  {
   "cell_type": "markdown",
   "id": "84417759",
   "metadata": {
    "papermill": {
     "duration": 0.042934,
     "end_time": "2022-03-29T12:10:30.075144",
     "exception": false,
     "start_time": "2022-03-29T12:10:30.032210",
     "status": "completed"
    },
    "tags": []
   },
   "source": [
    "# Comparison of Actual and Predicted Values"
   ]
  },
  {
   "cell_type": "code",
   "execution_count": 26,
   "id": "423d0b38",
   "metadata": {
    "execution": {
     "iopub.execute_input": "2022-03-29T12:10:30.173461Z",
     "iopub.status.busy": "2022-03-29T12:10:30.169675Z",
     "iopub.status.idle": "2022-03-29T12:10:30.515513Z",
     "shell.execute_reply": "2022-03-29T12:10:30.514763Z",
     "shell.execute_reply.started": "2022-03-29T11:46:09.121156Z"
    },
    "papermill": {
     "duration": 0.393966,
     "end_time": "2022-03-29T12:10:30.515671",
     "exception": false,
     "start_time": "2022-03-29T12:10:30.121705",
     "status": "completed"
    },
    "tags": []
   },
   "outputs": [
    {
     "data": {
      "image/png": "[encoded data removed]",
      "text/plain": [
       "<Figure size 432x288 with 1 Axes>"
      ]
     },
     "metadata": {
      "needs_background": "light"
     },
     "output_type": "display_data"
    }
   ],
   "source": [
    "plt.scatter(x = y_test, y = test_pred, color = 'blue', marker = 'o', s = 70, alpha = 0.5,\n",
    "          label = 'Test data')\n",
    "plt.title('Test and Pred')\n",
    "plt.xlabel('Test')\n",
    "plt.ylabel('Pred')\n",
    "plt.show()"
   ]
  },
  {
   "cell_type": "markdown",
   "id": "45a28318",
   "metadata": {
    "papermill": {
     "duration": 0.046633,
     "end_time": "2022-03-29T12:10:30.612797",
     "exception": false,
     "start_time": "2022-03-29T12:10:30.566164",
     "status": "completed"
    },
    "tags": []
   },
   "source": [
    "# Source"
   ]
  },
  {
   "cell_type": "markdown",
   "id": "912eabcf",
   "metadata": {
    "papermill": {
     "duration": 0.043586,
     "end_time": "2022-03-29T12:10:30.699687",
     "exception": false,
     "start_time": "2022-03-29T12:10:30.656101",
     "status": "completed"
    },
    "tags": []
   },
   "source": [
    "https://scikit-learn.org/stable/modules/generated/sklearn.ensemble.RandomForestRegressor.html\n",
    "\n",
    "https://towardsdatascience.com/hyperparameter-tuning-the-random-forest-in-python-using-scikit-learn-28d2aa77dd74"
   ]
  }
 ],
 "metadata": {
  "kernelspec": {
   "display_name": "Python 3",
   "language": "python",
   "name": "python3"
  },
  "language_info": {
   "codemirror_mode": {
    "name": "ipython",
    "version": 3
   },
   "file_extension": ".py",
   "mimetype": "text/x-python",
   "name": "python",
   "nbconvert_exporter": "python",
   "pygments_lexer": "ipython3",
   "version": "3.7.12"
  },
  "papermill": {
   "default_parameters": {},
   "duration": 992.116123,
   "end_time": "2022-03-29T12:10:31.557533",
   "environment_variables": {},
   "exception": null,
   "input_path": "__notebook__.ipynb",
   "output_path": "__notebook__.ipynb",
   "parameters": {},
   "start_time": "2022-03-29T11:53:59.441410",
   "version": "2.3.3"
  }
 },
 "nbformat": 4,
 "nbformat_minor": 5
}
