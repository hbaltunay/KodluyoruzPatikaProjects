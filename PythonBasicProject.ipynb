{
 "cells": [
  {
   "cell_type": "code",
   "execution_count": 1,
   "id": "239594e1",
   "metadata": {},
   "outputs": [],
   "source": [
    "# 1 - Function that flattens a list\n",
    "\n",
    "flattenList = []\n",
    "\n",
    "def flatten(inputList):\n",
    "    for subList in inputList:\n",
    "        if type(subList) == list:\n",
    "            flatten(subList)\n",
    "        else:\n",
    "            flattenList.append(subList)\n",
    "    return flattenList"
   ]
  },
  {
   "cell_type": "code",
   "execution_count": 2,
   "id": "cab58821",
   "metadata": {},
   "outputs": [
    {
     "name": "stdout",
     "output_type": "stream",
     "text": [
      "[1, 'a', 'cat', 2, 3, 'dog', 4, 5]\n"
     ]
    }
   ],
   "source": [
    "inputList = [[1, 'a', ['cat'], 2], [[[3]], 'dog'], 4, 5]\n",
    "\n",
    "print(flatten(inputList))"
   ]
  },
  {
   "cell_type": "code",
   "execution_count": 3,
   "id": "da254567",
   "metadata": {},
   "outputs": [],
   "source": [
    "# 2 - Function that reverses the elements inside the given list\n",
    "\n",
    "def reverse(inputList):\n",
    "    inputList.reverse()   \n",
    "    for subList in inputList:\n",
    "        if type(subList) == list:\n",
    "            reverse(subList)"
   ]
  },
  {
   "cell_type": "code",
   "execution_count": 4,
   "id": "dc409df6",
   "metadata": {},
   "outputs": [
    {
     "name": "stdout",
     "output_type": "stream",
     "text": [
      "[[7, 6, 5], [4, 3], [2, 1]]\n"
     ]
    }
   ],
   "source": [
    "inputList = [[1, 2], [3, 4], [5, 6, 7]]  \n",
    "\n",
    "reverse(inputList)\n",
    "print(inputList)"
   ]
  }
 ],
 "metadata": {
  "kernelspec": {
   "display_name": "Python 3 (ipykernel)",
   "language": "python",
   "name": "python3"
  },
  "language_info": {
   "codemirror_mode": {
    "name": "ipython",
    "version": 3
   },
   "file_extension": ".py",
   "mimetype": "text/x-python",
   "name": "python",
   "nbconvert_exporter": "python",
   "pygments_lexer": "ipython3",
   "version": "3.9.13"
  }
 },
 "nbformat": 4,
 "nbformat_minor": 5
}
